{
 "cells": [
  {
   "cell_type": "markdown",
   "id": "2f65fd27",
   "metadata": {},
   "source": [
    "# Data Science Tools and Ecosystem"
   ]
  },
  {
   "cell_type": "markdown",
   "id": "a077b13c",
   "metadata": {},
   "source": [
    "Introduction: in this notebook, Data Science Tools and Ecosystem are summarized in order to submit it to my IBM Data Science Professional Certificate"
   ]
  },
  {
   "cell_type": "markdown",
   "id": "9c09e9cd",
   "metadata": {},
   "source": [
    "**Objectives:**\n",
    "- List popular languages used for Data Science\n",
    "- List commonly used libraries for Data Science\n",
    "- List Data Science Tools \n"
   ]
  },
  {
   "cell_type": "markdown",
   "id": "9866dcd9",
   "metadata": {},
   "source": [
    "Some of the popular languages that Data Scientists use are: \n",
    "1) python\n",
    "2) R\n",
    "3) C/C++\n",
    "4) Java"
   ]
  },
  {
   "cell_type": "markdown",
   "id": "070f227b",
   "metadata": {},
   "source": [
    "Some of the commonly used libraries used by Data Scientists include:\n",
    "\n",
    "1) Pandas\n",
    "2) NumPy\n",
    "3) Scikit-learn\n",
    "4) Matplotlib\n",
    "5) PyTorch"
   ]
  },
  {
   "cell_type": "markdown",
   "id": "f923e772",
   "metadata": {},
   "source": [
    "| Data Science Tools |\n",
    "|--------------------|\n",
    "| Jupyter Notebook   |\n",
    "| Anaconda           |\n",
    "|R Studio            |"
   ]
  },
  {
   "cell_type": "markdown",
   "id": "ca1ef5c0",
   "metadata": {},
   "source": [
    "### Below are a few examples of evaluating arithmetic expressions in Python"
   ]
  },
  {
   "cell_type": "code",
   "execution_count": 1,
   "id": "4bf35a9c",
   "metadata": {},
   "outputs": [
    {
     "data": {
      "text/plain": [
       "17"
      ]
     },
     "execution_count": 1,
     "metadata": {},
     "output_type": "execute_result"
    }
   ],
   "source": [
    "# This a simple arithmetic expression to mutiply then add integers\n",
    "\n",
    "(3*4)+5"
   ]
  },
  {
   "cell_type": "code",
   "execution_count": 2,
   "id": "5dc20094",
   "metadata": {},
   "outputs": [
    {
     "data": {
      "text/plain": [
       "3.3333333333333335"
      ]
     },
     "execution_count": 2,
     "metadata": {},
     "output_type": "execute_result"
    }
   ],
   "source": [
    "# This will convert 200 minutes to hours by diving by 60\n",
    "\n",
    "conversion = 200 / 60\n",
    "\n",
    "conversion"
   ]
  },
  {
   "cell_type": "markdown",
   "id": "eac15927",
   "metadata": {},
   "source": [
    "## Author\n",
    "\n",
    "Marcos Ferreira"
   ]
  }
 ],
 "metadata": {
  "kernelspec": {
   "display_name": "Python 3 (ipykernel)",
   "language": "python",
   "name": "python3"
  },
  "language_info": {
   "codemirror_mode": {
    "name": "ipython",
    "version": 3
   },
   "file_extension": ".py",
   "mimetype": "text/x-python",
   "name": "python",
   "nbconvert_exporter": "python",
   "pygments_lexer": "ipython3",
   "version": "3.11.5"
  }
 },
 "nbformat": 4,
 "nbformat_minor": 5
}
